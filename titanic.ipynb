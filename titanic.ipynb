{
 "cells": [
  {
   "cell_type": "code",
   "execution_count": 15,
   "metadata": {},
   "outputs": [],
   "source": [
    "import pandas as pd\n",
    "import numpy as np\n",
    "import matplotlib.pyplot as plt\n",
    "import seaborn as sns\n",
    "\n",
    "\n",
    "%matplotlib inline\n",
    "np.set_printoptions(precision=2)"
   ]
  },
  {
   "cell_type": "code",
   "execution_count": 2,
   "metadata": {},
   "outputs": [],
   "source": [
    "class MLP():\n",
    "    def __init__(self, listOfLayer=[2, 3, 2], activationFunction=\"ReLU\"):\n",
    "        self.numLayers = len(listOfLayer)\n",
    "        self.layers = [{} for i in range(self.numLayers)]\n",
    "        self.activationFunction = activationFunction\n",
    "        \n",
    "        for i in range(1, self.numLayers):\n",
    "            self.layers[i][\"W\"] = np.random.randn(listOfLayer[i], listOfLayer[i-1])\n",
    "            self.layers[i][\"b\"] = np.random.randn(listOfLayer[i], 1)\n",
    "        self.lossList = []\n",
    "        return\n",
    "            \n",
    "    def forward(self, x, bs):\n",
    "        self.layers[0][\"a\"] = np.copy(x)\n",
    "        for i in range(1, self.numLayers):\n",
    "            self.layers[i][\"z\"] = self.layers[i][\"W\"].dot(self.layers[i-1][\"a\"]) + self.layers[i][\"b\"]\n",
    "            actType = \"sigmoid\" if i == self.numLayers - 1 else self.activationFunction\n",
    "            self.layers[i][\"a\"] = self.activation(self.layers[i][\"z\"], actType)\n",
    "        self.p = self.softmax(self.layers[-1][\"a\"])\n",
    "        self.yHat = np.zeros(self.p.shape, dtype=int)\n",
    "        for j, i in enumerate(self.p.argmax(axis=0)):\n",
    "            self.yHat[i, j] = 1\n",
    "        return\n",
    "    \n",
    "    def activation(self, z, actType=\"sigmoid\"):\n",
    "        if actType == \"sigmoid\":\n",
    "            a = 1.0 / (1.0 + np.exp(-z))\n",
    "        elif actType == \"ReLU\":\n",
    "            a = np.where(z < 0.0, 0.0, z)\n",
    "        else:\n",
    "            pass   \n",
    "        return a\n",
    "     \n",
    "    def inverseActivation(self, a, actType=\"sigmoid\"):\n",
    "        if actType == \"sigmoid\":\n",
    "            dzda = a * (1.0 - a)\n",
    "        elif actType == \"ReLU\":\n",
    "            dzda = np.where(a > 0, 1.0, a)\n",
    "        else:\n",
    "            pass\n",
    "        return dzda\n",
    "    \n",
    "    def softmax(self, a):\n",
    "        expa = np.exp(a)\n",
    "        return (expa / np.sum(expa, axis = 0))\n",
    "    \n",
    "    def loss(self, y):\n",
    "        # return np.mean(- np.log(self.p) * y - np.log(1.0 - self.p) * (1.0 - y))\n",
    "        return np.mean(- np.log(self.p) * y)\n",
    "        \n",
    "    def backprop(self, y, bs):\n",
    "        # self.dJdp = - y / self.p + (1.0 - y) / (1.0 - self.p)\n",
    "        self.dJdp = - y / self.p # To count only the correct answer\n",
    "        \n",
    "        dpda = np.zeros((self.p.shape[0], self.p.shape[0], bs)) # a and p are of same dimension\n",
    "        for b in range(bs):\n",
    "            for i in range(dpda.shape[0]):\n",
    "                for j in range(dpda.shape[1]):\n",
    "                    dpda[i, j, b] = (self.p[i, b] - self.p[i, b] ** 2) if i == j else - self.p[i, b] * self.p[j, b]\n",
    "        \n",
    "        self.layers[-1][\"dJda\"] = np.zeros(self.layers[-1][\"a\"].shape)\n",
    "        for b in range(bs):\n",
    "            self.layers[-1][\"dJda\"][:, b] = dpda[:, :, b].dot(self.dJdp[:, b])\n",
    "          \n",
    "        for i in range(self.numLayers - 1, 0, -1):\n",
    "            actType = \"sigmoid\" if i == self.numLayers - 1 else self.activationFunction\n",
    "            self.layers[i][\"dJdz\"] = self.inverseActivation(self.layers[i][\"a\"], actType) * self.layers[i][\"dJda\"]\n",
    "            self.layers[i][\"dJdb\"] = np.mean(self.layers[i][\"dJdz\"], axis = 1).reshape(self.layers[i][\"b\"].shape)\n",
    "            self.layers[i][\"dJdW\"] = self.layers[i][\"dJdz\"].dot(self.layers[i-1][\"a\"].T) / bs\n",
    "            self.layers[i-1][\"dJda\"] = self.layers[i][\"W\"].T.dot(self.layers[i][\"dJdz\"])\n",
    "        return\n",
    "            \n",
    "    def update(self, lr = 0.01):\n",
    "        for i in range(1, self.numLayers):\n",
    "            self.layers[i][\"W\"] -= lr * self.layers[i][\"dJdW\"]\n",
    "            self.layers[i][\"b\"] -= lr * self.layers[i][\"dJdb\"]\n",
    "        return\n",
    "    \n",
    "    def shuffle(self, a, b):\n",
    "        shuffled_a = np.copy(a)\n",
    "        shuffled_b = np.copy(b)\n",
    "        permutation = np.random.permutation(a.shape[1])\n",
    "        for oldindex, newindex in enumerate(permutation):\n",
    "            shuffled_a[:, oldindex] = a[:, newindex]\n",
    "            shuffled_b[:, oldindex] = b[:, newindex]\n",
    "        return shuffled_a, shuffled_b\n",
    "        \n",
    "    def train(self, trainX, trainY, numEpoch=1, lr=0.01, bs=2):  \n",
    "        for e in range(numEpoch):\n",
    "            shuffled_trainX, shuffled_trainY = self.shuffle(trainX, trainY)\n",
    "            for i in range(trainX.shape[1] // bs):\n",
    "                x = shuffled_trainX[:, i*bs : (i+1)*bs]\n",
    "                y = shuffled_trainY[:, i*bs : (i+1)*bs]\n",
    "                self.forward(x, bs)\n",
    "                self.lossList.append(self.loss(y))\n",
    "                self.backprop(y, bs)\n",
    "                self.update(lr)\n",
    "        self.finalX = shuffled_trainX\n",
    "        self.finalY = shuffled_trainY\n",
    "        return      "
   ]
  },
  {
   "cell_type": "code",
   "execution_count": 38,
   "metadata": {},
   "outputs": [
    {
     "name": "stdout",
     "output_type": "stream",
     "text": [
      "yHat is\n",
      " [[0 0 0 1 1 0]\n",
      " [1 1 1 0 0 1]]\n",
      "y is \n",
      " [[0 0 0 1 1 0]\n",
      " [1 1 1 0 0 1]]\n"
     ]
    },
    {
     "data": {
      "text/plain": [
       "array([[  8.86e-04,   4.55e-03,   4.17e-03,   9.98e-01,   9.89e-01,\n",
       "          4.69e-03],\n",
       "       [  9.99e-01,   9.96e-01,   9.96e-01,   2.06e-03,   1.02e-02,\n",
       "          9.96e-01]])"
      ]
     },
     "execution_count": 38,
     "metadata": {},
     "output_type": "execute_result"
    },
    {
     "data": {
      "image/png": "[encoded data removed]",
      "text/plain": [
       "<matplotlib.figure.Figure at 0x7fd592fb4550>"
      ]
     },
     "metadata": {},
     "output_type": "display_data"
    }
   ],
   "source": [
    "#verify MLP\n",
    "nn = MLP([2, 10, 10, 2], activationFunction = \"sigmoid\")\n",
    "trainX = np.array([[1, 4, 2, 1, 2, 4],\n",
    "                  [1, 2, 2, 4, 3, 4]])\n",
    "trainY = np.array([[0, 0, 0, 1, 1, 0],\n",
    "                  [1, 1, 1, 0, 0, 1]])\n",
    "nn.train(trainX, trainY, numEpoch=10000, lr=0.1, bs = 6)\n",
    "\n",
    "plt.plot(nn.lossList[:])\n",
    "print (\"yHat is\\n\", nn.yHat)\n",
    "print (\"y is \\n\", trainY)\n",
    "nn.layers[-1][\"a\"]"
   ]
  },
  {
   "cell_type": "code",
   "execution_count": 37,
   "metadata": {},
   "outputs": [
    {
     "data": {
      "text/html": [
       "<div>\n",
       "<style scoped>\n",
       "    .dataframe tbody tr th:only-of-type {\n",
       "        vertical-align: middle;\n",
       "    }\n",
       "\n",
       "    .dataframe tbody tr th {\n",
       "        vertical-align: top;\n",
       "    }\n",
       "\n",
       "    .dataframe thead th {\n",
       "        text-align: right;\n",
       "    }\n",
       "</style>\n",
       "<table border=\"1\" class=\"dataframe\">\n",
       "  <thead>\n",
       "    <tr style=\"text-align: right;\">\n",
       "      <th></th>\n",
       "      <th>PassengerId</th>\n",
       "      <th>Survived</th>\n",
       "      <th>Pclass</th>\n",
       "      <th>Age</th>\n",
       "      <th>SibSp</th>\n",
       "      <th>Parch</th>\n",
       "      <th>Fare</th>\n",
       "    </tr>\n",
       "  </thead>\n",
       "  <tbody>\n",
       "    <tr>\n",
       "      <th>count</th>\n",
       "      <td>891.000000</td>\n",
       "      <td>891.000000</td>\n",
       "      <td>891.000000</td>\n",
       "      <td>714.000000</td>\n",
       "      <td>891.000000</td>\n",
       "      <td>891.000000</td>\n",
       "      <td>891.000000</td>\n",
       "    </tr>\n",
       "    <tr>\n",
       "      <th>mean</th>\n",
       "      <td>446.000000</td>\n",
       "      <td>0.383838</td>\n",
       "      <td>2.308642</td>\n",
       "      <td>29.699118</td>\n",
       "      <td>0.523008</td>\n",
       "      <td>0.381594</td>\n",
       "      <td>32.204208</td>\n",
       "    </tr>\n",
       "    <tr>\n",
       "      <th>std</th>\n",
       "      <td>257.353842</td>\n",
       "      <td>0.486592</td>\n",
       "      <td>0.836071</td>\n",
       "      <td>14.526497</td>\n",
       "      <td>1.102743</td>\n",
       "      <td>0.806057</td>\n",
       "      <td>49.693429</td>\n",
       "    </tr>\n",
       "    <tr>\n",
       "      <th>min</th>\n",
       "      <td>1.000000</td>\n",
       "      <td>0.000000</td>\n",
       "      <td>1.000000</td>\n",
       "      <td>0.420000</td>\n",
       "      <td>0.000000</td>\n",
       "      <td>0.000000</td>\n",
       "      <td>0.000000</td>\n",
       "    </tr>\n",
       "    <tr>\n",
       "      <th>25%</th>\n",
       "      <td>223.500000</td>\n",
       "      <td>0.000000</td>\n",
       "      <td>2.000000</td>\n",
       "      <td>20.125000</td>\n",
       "      <td>0.000000</td>\n",
       "      <td>0.000000</td>\n",
       "      <td>7.910400</td>\n",
       "    </tr>\n",
       "    <tr>\n",
       "      <th>50%</th>\n",
       "      <td>446.000000</td>\n",
       "      <td>0.000000</td>\n",
       "      <td>3.000000</td>\n",
       "      <td>28.000000</td>\n",
       "      <td>0.000000</td>\n",
       "      <td>0.000000</td>\n",
       "      <td>14.454200</td>\n",
       "    </tr>\n",
       "    <tr>\n",
       "      <th>75%</th>\n",
       "      <td>668.500000</td>\n",
       "      <td>1.000000</td>\n",
       "      <td>3.000000</td>\n",
       "      <td>38.000000</td>\n",
       "      <td>1.000000</td>\n",
       "      <td>0.000000</td>\n",
       "      <td>31.000000</td>\n",
       "    </tr>\n",
       "    <tr>\n",
       "      <th>max</th>\n",
       "      <td>891.000000</td>\n",
       "      <td>1.000000</td>\n",
       "      <td>3.000000</td>\n",
       "      <td>80.000000</td>\n",
       "      <td>8.000000</td>\n",
       "      <td>6.000000</td>\n",
       "      <td>512.329200</td>\n",
       "    </tr>\n",
       "  </tbody>\n",
       "</table>\n",
       "</div>"
      ],
      "text/plain": [
       "       PassengerId    Survived      Pclass         Age       SibSp  \\\n",
       "count   891.000000  891.000000  891.000000  714.000000  891.000000   \n",
       "mean    446.000000    0.383838    2.308642   29.699118    0.523008   \n",
       "std     257.353842    0.486592    0.836071   14.526497    1.102743   \n",
       "min       1.000000    0.000000    1.000000    0.420000    0.000000   \n",
       "25%     223.500000    0.000000    2.000000   20.125000    0.000000   \n",
       "50%     446.000000    0.000000    3.000000   28.000000    0.000000   \n",
       "75%     668.500000    1.000000    3.000000   38.000000    1.000000   \n",
       "max     891.000000    1.000000    3.000000   80.000000    8.000000   \n",
       "\n",
       "            Parch        Fare  \n",
       "count  891.000000  891.000000  \n",
       "mean     0.381594   32.204208  \n",
       "std      0.806057   49.693429  \n",
       "min      0.000000    0.000000  \n",
       "25%      0.000000    7.910400  \n",
       "50%      0.000000   14.454200  \n",
       "75%      0.000000   31.000000  \n",
       "max      6.000000  512.329200  "
      ]
     },
     "execution_count": 37,
     "metadata": {},
     "output_type": "execute_result"
    }
   ],
   "source": [
    "#data preprocess\n",
    "train = pd.read_csv(\"titanic/train.csv\")\n",
    "train.dropna(axis=0, how='any', thresh=None, subset=None, inplace=False)\n",
    "# train.info()\n",
    "train.describe()\n"
   ]
  },
  {
   "cell_type": "code",
   "execution_count": 34,
   "metadata": {},
   "outputs": [
    {
     "data": {
      "text/plain": [
       "<seaborn.axisgrid.FacetGrid at 0x7fd582b599e8>"
      ]
     },
     "execution_count": 34,
     "metadata": {},
     "output_type": "execute_result"
    },
    {
     "data": {
      "image/png": "[encoded data removed]",
      "text/plain": [
       "<matplotlib.figure.Figure at 0x7fd582b5feb8>"
      ]
     },
     "metadata": {},
     "output_type": "display_data"
    }
   ],
   "source": [
    "#data observation\n",
    "# sns.countplot(train['Survived'])\n",
    "# sns.countplot(train['Pclass'])\n",
    "# sns.countplot(train['Age'])\n",
    "# sns.countplot(train['SibSp'])\n",
    "# sns.countplot(train['Parch'])\n",
    "# sns.countplot(train['Fare'])\n",
    "\n",
    "#各類資料與生存率的關係\n",
    "# sns.countplot(train['Pclas'],hue=train['Survived'])\n",
    "\n",
    "#Age v.s Survived\n",
    "g = sns.FacetGrid(train, col='Survived')\n",
    "\n",
    "g.map(sns.distplot, 'Pclass', kde=False)\n",
    "# sns.countplot(train['Age'],hue=train['Survived'])\n"
   ]
  },
  {
   "cell_type": "code",
   "execution_count": 54,
   "metadata": {},
   "outputs": [
    {
     "name": "stdout",
     "output_type": "stream",
     "text": [
      "(891, 2)\n",
      "yHat is\n",
      " [[1 0 0 0 0 1]\n",
      " [0 1 1 1 1 0]]\n",
      "y is \n",
      " [[0 0 0 1 1 0]\n",
      " [1 1 1 0 0 1]]\n"
     ]
    },
    {
     "data": {
      "text/plain": [
       "array([[  9.90e-01,   3.28e-03,   7.55e-04,   3.63e-03,   3.76e-03,\n",
       "          9.98e-01],\n",
       "       [  1.03e-02,   9.96e-01,   9.99e-01,   9.97e-01,   9.96e-01,\n",
       "          2.19e-03]])"
      ]
     },
     "execution_count": 54,
     "metadata": {},
     "output_type": "execute_result"
    },
    {
     "data": {
      "image/png": "[encoded data removed]",
      "text/plain": [
       "<matplotlib.figure.Figure at 0x7fd582749278>"
      ]
     },
     "metadata": {},
     "output_type": "display_data"
    }
   ],
   "source": [
    "nn = MLP([2, 10, 10, 2], activationFunction = \"sigmoid\")\n",
    "pclass = train['Pclass'].to_numpy()\n",
    "age = train['Age'].to_numpy()\n",
    "survived = train['Survived'].to_numpy()\n",
    "\n",
    "trainX = np.column_stack( (pclass,age) )\n",
    "# trainX = np.concatenate((pclass,age),axis=0) \n",
    "\n",
    "print(trainX.shape)\n",
    "trainX = np.array([[1, 4, 2, 1, 2, 4],\n",
    "                  [1, 2, 2, 4, 3, 4]])\n",
    "trainY = np.array([[0, 0, 0, 1, 1, 0],\n",
    "                  [1, 1, 1, 0, 0, 1]])\n",
    "\n",
    "nn.train(trainX, trainY, numEpoch=10000, lr=0.1, bs = 6)\n",
    "\n",
    "plt.plot(nn.lossList[:])\n",
    "print (\"yHat is\\n\", nn.yHat)\n",
    "print (\"y is \\n\", trainY)\n",
    "nn.layers[-1][\"a\"]"
   ]
  },
  {
   "cell_type": "code",
   "execution_count": null,
   "metadata": {},
   "outputs": [],
   "source": []
  }
 ],
 "metadata": {
  "kernelspec": {
   "display_name": "Python 3",
   "language": "python",
   "name": "python3"
  },
  "language_info": {
   "codemirror_mode": {
    "name": "ipython",
    "version": 3
   },
   "file_extension": ".py",
   "mimetype": "text/x-python",
   "name": "python",
   "nbconvert_exporter": "python",
   "pygments_lexer": "ipython3",
   "version": "3.5.2"
  }
 },
 "nbformat": 4,
 "nbformat_minor": 2
}
