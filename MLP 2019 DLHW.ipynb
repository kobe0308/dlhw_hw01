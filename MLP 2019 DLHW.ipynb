{
 "cells": [
  {
   "cell_type": "markdown",
   "metadata": {},
   "source": [
    "### Multiple-Layer Perceptron\n",
    "#### Youn-Long Lin, NTHU-CS\n",
    "#### 2019 02 25"
   ]
  },
  {
   "cell_type": "code",
   "execution_count": 1,
   "metadata": {},
   "outputs": [],
   "source": [
    "import numpy as np\n",
    "import matplotlib.pyplot as plt\n",
    "%matplotlib inline\n",
    "np.set_printoptions(precision=2)"
   ]
  },
  {
   "cell_type": "code",
   "execution_count": 2,
   "metadata": {},
   "outputs": [],
   "source": [
    "class MLP():\n",
    "    def __init__(self, listOfLayer=[2, 3, 2], activationFunction=\"ReLU\"):\n",
    "        self.numLayers = len(listOfLayer)\n",
    "        self.layers = [{} for i in range(self.numLayers)]\n",
    "        self.activationFunction = activationFunction\n",
    "        \n",
    "        for i in range(1, self.numLayers):\n",
    "            self.layers[i][\"W\"] = np.random.randn(listOfLayer[i], listOfLayer[i-1])\n",
    "            self.layers[i][\"b\"] = np.random.randn(listOfLayer[i], 1)\n",
    "        self.lossList = []\n",
    "        return\n",
    "            \n",
    "    def forward(self, x, bs):\n",
    "        self.layers[0][\"a\"] = np.copy(x)\n",
    "        for i in range(1, self.numLayers):\n",
    "            self.layers[i][\"z\"] = self.layers[i][\"W\"].dot(self.layers[i-1][\"a\"]) + self.layers[i][\"b\"]\n",
    "            actType = \"sigmoid\" if i == self.numLayers - 1 else self.activationFunction\n",
    "            self.layers[i][\"a\"] = self.activation(self.layers[i][\"z\"], actType)\n",
    "        self.p = self.softmax(self.layers[-1][\"a\"])\n",
    "        self.yHat = np.zeros(self.p.shape, dtype=int)\n",
    "        for j, i in enumerate(self.p.argmax(axis=0)):\n",
    "            self.yHat[i, j] = 1\n",
    "        return\n",
    "    \n",
    "    def activation(self, z, actType=\"sigmoid\"):\n",
    "        if actType == \"sigmoid\":\n",
    "            a = 1.0 / (1.0 + np.exp(-z))\n",
    "        elif actType == \"ReLU\":\n",
    "            a = np.where(z < 0.0, 0.0, z)\n",
    "        else:\n",
    "            pass   \n",
    "        return a\n",
    "     \n",
    "    def inverseActivation(self, a, actType=\"sigmoid\"):\n",
    "        if actType == \"sigmoid\":\n",
    "            dzda = a * (1.0 - a)\n",
    "        elif actType == \"ReLU\":\n",
    "            dzda = np.where(a > 0, 1.0, a)\n",
    "        else:\n",
    "            pass\n",
    "        return dzda\n",
    "    \n",
    "    def softmax(self, a):\n",
    "        expa = np.exp(a)\n",
    "        return (expa / np.sum(expa, axis = 0))\n",
    "    \n",
    "    def loss(self, y):\n",
    "        # return np.mean(- np.log(self.p) * y - np.log(1.0 - self.p) * (1.0 - y))\n",
    "        return np.mean(- np.log(self.p) * y)\n",
    "        \n",
    "    def backprop(self, y, bs):\n",
    "        # self.dJdp = - y / self.p + (1.0 - y) / (1.0 - self.p)\n",
    "        self.dJdp = - y / self.p # To count only the correct answer\n",
    "        \n",
    "        dpda = np.zeros((self.p.shape[0], self.p.shape[0], bs)) # a and p are of same dimension\n",
    "        for b in range(bs):\n",
    "            for i in range(dpda.shape[0]):\n",
    "                for j in range(dpda.shape[1]):\n",
    "                    dpda[i, j, b] = (self.p[i, b] - self.p[i, b] ** 2) if i == j else - self.p[i, b] * self.p[j, b]\n",
    "        \n",
    "        self.layers[-1][\"dJda\"] = np.zeros(self.layers[-1][\"a\"].shape)\n",
    "        for b in range(bs):\n",
    "            self.layers[-1][\"dJda\"][:, b] = dpda[:, :, b].dot(self.dJdp[:, b])\n",
    "          \n",
    "        for i in range(self.numLayers - 1, 0, -1):\n",
    "            actType = \"sigmoid\" if i == self.numLayers - 1 else self.activationFunction\n",
    "            self.layers[i][\"dJdz\"] = self.inverseActivation(self.layers[i][\"a\"], actType) * self.layers[i][\"dJda\"]\n",
    "            self.layers[i][\"dJdb\"] = np.mean(self.layers[i][\"dJdz\"], axis = 1).reshape(self.layers[i][\"b\"].shape)\n",
    "            self.layers[i][\"dJdW\"] = self.layers[i][\"dJdz\"].dot(self.layers[i-1][\"a\"].T) / bs\n",
    "            self.layers[i-1][\"dJda\"] = self.layers[i][\"W\"].T.dot(self.layers[i][\"dJdz\"])\n",
    "        return\n",
    "            \n",
    "    def update(self, lr = 0.01):\n",
    "        for i in range(1, self.numLayers):\n",
    "            self.layers[i][\"W\"] -= lr * self.layers[i][\"dJdW\"]\n",
    "            self.layers[i][\"b\"] -= lr * self.layers[i][\"dJdb\"]\n",
    "        return\n",
    "    \n",
    "    def shuffle(self, a, b):\n",
    "        shuffled_a = np.copy(a)\n",
    "        shuffled_b = np.copy(b)\n",
    "        permutation = np.random.permutation(a.shape[1])\n",
    "        for oldindex, newindex in enumerate(permutation):\n",
    "            shuffled_a[:, oldindex] = a[:, newindex]\n",
    "            shuffled_b[:, oldindex] = b[:, newindex]\n",
    "        return shuffled_a, shuffled_b\n",
    "        \n",
    "    def train(self, trainX, trainY, numEpoch=1, lr=0.01, bs=2):  \n",
    "        for e in range(numEpoch):\n",
    "            shuffled_trainX, shuffled_trainY = self.shuffle(trainX, trainY)\n",
    "            for i in range(trainX.shape[1] // bs):\n",
    "                x = shuffled_trainX[:, i*bs : (i+1)*bs]\n",
    "                y = shuffled_trainY[:, i*bs : (i+1)*bs]\n",
    "                self.forward(x, bs)\n",
    "                self.lossList.append(self.loss(y))\n",
    "                self.backprop(y, bs)\n",
    "                self.update(lr)\n",
    "        self.finalX = shuffled_trainX\n",
    "        self.finalY = shuffled_trainY\n",
    "        return      "
   ]
  },
  {
   "cell_type": "markdown",
   "metadata": {},
   "source": [
    "### Train a toy neural net"
   ]
  },
  {
   "cell_type": "code",
   "execution_count": 3,
   "metadata": {},
   "outputs": [],
   "source": [
    "nn = MLP([2, 10, 10, 2], activationFunction = \"sigmoid\")"
   ]
  },
  {
   "cell_type": "code",
   "execution_count": 4,
   "metadata": {},
   "outputs": [],
   "source": [
    "trainX = np.array([[1, 4, 2, 1, 2, 4],\n",
    "                  [1, 2, 2, 4, 3, 4]])\n",
    "trainY = np.array([[0, 0, 0, 1, 1, 0],\n",
    "                  [1, 1, 1, 0, 0, 1]])"
   ]
  },
  {
   "cell_type": "code",
   "execution_count": 5,
   "metadata": {},
   "outputs": [],
   "source": [
    "nn.train(trainX, trainY, numEpoch=10000, lr=0.1, bs = 6)"
   ]
  },
  {
   "cell_type": "code",
   "execution_count": 6,
   "metadata": {},
   "outputs": [
    {
     "data": {
      "text/plain": [
       "[<matplotlib.lines.Line2D at 0x7f22ddfac9b0>]"
      ]
     },
     "execution_count": 6,
     "metadata": {},
     "output_type": "execute_result"
    },
    {
     "data": {
      "image/png": "[encoded data removed]",
      "text/plain": [
       "<matplotlib.figure.Figure at 0x7f22e02c74a8>"
      ]
     },
     "metadata": {},
     "output_type": "display_data"
    }
   ],
   "source": [
    "plt.plot(nn.lossList[:])"
   ]
  },
  {
   "cell_type": "code",
   "execution_count": 7,
   "metadata": {},
   "outputs": [
    {
     "name": "stdout",
     "output_type": "stream",
     "text": [
      "yHat is\n",
      " [[0 0 0 1 1 0]\n",
      " [1 1 1 0 0 1]]\n",
      "y is \n",
      " [[0 0 0 1 1 0]\n",
      " [1 1 1 0 0 1]]\n"
     ]
    }
   ],
   "source": [
    "print (\"yHat is\\n\", nn.yHat)\n",
    "print (\"y is \\n\", trainY)"
   ]
  },
  {
   "cell_type": "code",
   "execution_count": 8,
   "metadata": {},
   "outputs": [
    {
     "data": {
      "text/plain": [
       "array([[  4.34e-03,   5.03e-03,   4.01e-03,   9.87e-01,   9.98e-01,\n",
       "          4.51e-04],\n",
       "       [  9.97e-01,   9.96e-01,   9.97e-01,   8.38e-03,   1.90e-03,\n",
       "          9.99e-01]])"
      ]
     },
     "execution_count": 8,
     "metadata": {},
     "output_type": "execute_result"
    }
   ],
   "source": [
    "nn.layers[-1][\"a\"]"
   ]
  },
  {
   "cell_type": "markdown",
   "metadata": {},
   "source": [
    "### Train a set of 10 MNIST digits"
   ]
  },
  {
   "cell_type": "code",
   "execution_count": 9,
   "metadata": {},
   "outputs": [
    {
     "data": {
      "image/png": "[encoded data removed]",
      "text/plain": [
       "<matplotlib.figure.Figure at 0x7f22ddf09240>"
      ]
     },
     "metadata": {},
     "output_type": "display_data"
    }
   ],
   "source": [
    "f = open(\"mnist_test_10.csv\", \"r\")\n",
    "a = f.readlines()\n",
    "f.close()\n",
    "\n",
    "x = []\n",
    "y = []\n",
    "count = 1\n",
    "for line in a:\n",
    "    linepixels = [int(pixel) for pixel in line.split(\",\")]\n",
    "    x.append(linepixels[1:])\n",
    "    y.append(linepixels[0])\n",
    "    imarray = np.asfarray(linepixels[1:]).reshape(28,28)\n",
    "    plt.subplot(5, 5, count)\n",
    "    plt.subplots_adjust(hspace=0.5)\n",
    "    plt.title(\"Label is\" + str(linepixels[0]))\n",
    "    count += 1\n",
    "    plt.imshow(imarray, cmap=\"Greys\", interpolation=\"None\")\n",
    "    \n",
    "test_x_10 = np.array(x).T / 256.0\n",
    "test_y_10 = np.zeros((10, len(y)), dtype=int)\n",
    "for i in range(len(y)):\n",
    "    test_y_10[y[i], i] = 1"
   ]
  },
  {
   "cell_type": "code",
   "execution_count": 10,
   "metadata": {},
   "outputs": [
    {
     "data": {
      "text/plain": [
       "array([[0, 0, 0, 1, 0, 0, 0, 0, 0, 0],\n",
       "       [0, 0, 1, 0, 0, 1, 0, 0, 0, 0],\n",
       "       [0, 1, 0, 0, 0, 0, 0, 0, 0, 0],\n",
       "       [0, 0, 0, 0, 0, 0, 0, 0, 0, 0],\n",
       "       [0, 0, 0, 0, 1, 0, 1, 0, 0, 0],\n",
       "       [0, 0, 0, 0, 0, 0, 0, 0, 1, 0],\n",
       "       [0, 0, 0, 0, 0, 0, 0, 0, 0, 0],\n",
       "       [1, 0, 0, 0, 0, 0, 0, 0, 0, 0],\n",
       "       [0, 0, 0, 0, 0, 0, 0, 0, 0, 0],\n",
       "       [0, 0, 0, 0, 0, 0, 0, 1, 0, 1]])"
      ]
     },
     "execution_count": 10,
     "metadata": {},
     "output_type": "execute_result"
    }
   ],
   "source": [
    "test_y_10"
   ]
  },
  {
   "cell_type": "code",
   "execution_count": 11,
   "metadata": {},
   "outputs": [
    {
     "data": {
      "text/plain": [
       "[<matplotlib.lines.Line2D at 0x7f22ddb124a8>]"
      ]
     },
     "execution_count": 11,
     "metadata": {},
     "output_type": "execute_result"
    },
    {
     "data": {
      "image/png": "[encoded data removed]",
      "text/plain": [
       "<matplotlib.figure.Figure at 0x7f22ddf76f28>"
      ]
     },
     "metadata": {},
     "output_type": "display_data"
    }
   ],
   "source": [
    "nnMNIST = MLP([784, 50, 10], activationFunction = \"sigmoid\")\n",
    "nnMNIST.train(test_x_10, test_y_10, numEpoch=2000, lr=0.1, bs = 10)\n",
    "plt.plot(nnMNIST.lossList[:])"
   ]
  },
  {
   "cell_type": "code",
   "execution_count": 15,
   "metadata": {},
   "outputs": [
    {
     "name": "stdout",
     "output_type": "stream",
     "text": [
      "Training Accuracy= 0.8\n"
     ]
    }
   ],
   "source": [
    "nnMNIST.forward(test_x_10, 10)\n",
    "predicted = nnMNIST.yHat.argmax(axis=0)\n",
    "answer = test_y_10.argmax(axis=0)\n",
    "accuracy = 1.0 - float(len(np.nonzero(predicted - answer)[0])) / len(answer)\n",
    "print (\"Training Accuracy=\", accuracy)"
   ]
  },
  {
   "cell_type": "code",
   "execution_count": 16,
   "metadata": {},
   "outputs": [
    {
     "data": {
      "text/plain": [
       "array([9, 2, 1, 0, 4, 1, 4, 9, 0, 9])"
      ]
     },
     "execution_count": 16,
     "metadata": {},
     "output_type": "execute_result"
    }
   ],
   "source": [
    "nnMNIST.yHat.argmax(axis=0)"
   ]
  },
  {
   "cell_type": "code",
   "execution_count": 17,
   "metadata": {},
   "outputs": [
    {
     "data": {
      "text/plain": [
       "array([[ 0.1 ,  0.09,  0.09,  0.23,  0.08,  0.09,  0.09,  0.09,  0.11,\n",
       "         0.09],\n",
       "       [ 0.1 ,  0.09,  0.23,  0.09,  0.08,  0.23,  0.09,  0.08,  0.1 ,\n",
       "         0.09],\n",
       "       [ 0.1 ,  0.23,  0.09,  0.1 ,  0.08,  0.09,  0.09,  0.09,  0.1 ,\n",
       "         0.09],\n",
       "       [ 0.1 ,  0.08,  0.09,  0.08,  0.09,  0.09,  0.08,  0.09,  0.1 ,\n",
       "         0.08],\n",
       "       [ 0.1 ,  0.09,  0.09,  0.09,  0.23,  0.09,  0.23,  0.09,  0.1 ,\n",
       "         0.09],\n",
       "       [ 0.1 ,  0.08,  0.09,  0.08,  0.08,  0.09,  0.09,  0.09,  0.1 ,\n",
       "         0.08],\n",
       "       [ 0.1 ,  0.08,  0.09,  0.09,  0.09,  0.09,  0.09,  0.09,  0.1 ,\n",
       "         0.09],\n",
       "       [ 0.1 ,  0.08,  0.09,  0.09,  0.08,  0.09,  0.08,  0.08,  0.1 ,\n",
       "         0.08],\n",
       "       [ 0.1 ,  0.08,  0.09,  0.08,  0.09,  0.09,  0.09,  0.09,  0.1 ,\n",
       "         0.09],\n",
       "       [ 0.1 ,  0.08,  0.09,  0.08,  0.09,  0.09,  0.09,  0.23,  0.1 ,\n",
       "         0.23]])"
      ]
     },
     "execution_count": 17,
     "metadata": {},
     "output_type": "execute_result"
    }
   ],
   "source": [
    "nnMNIST.p"
   ]
  },
  {
   "cell_type": "markdown",
   "metadata": {},
   "source": [
    "### Train a subset of 100 MNIST data"
   ]
  },
  {
   "cell_type": "code",
   "execution_count": 19,
   "metadata": {},
   "outputs": [
    {
     "data": {
      "image/png": "[encoded data removed]",
      "text/plain": [
       "<matplotlib.figure.Figure at 0x7f22ddf09208>"
      ]
     },
     "metadata": {},
     "output_type": "display_data"
    }
   ],
   "source": [
    "f = open(\"mnist/mnist_train_100.csv\", \"r\")\n",
    "a = f.readlines()\n",
    "f.close()\n",
    "\n",
    "x = []\n",
    "y = []\n",
    "count = 1\n",
    "for line in a:\n",
    "    linepixels = [int(pixel) for pixel in line.split(\",\")]\n",
    "    x.append(linepixels[1:])\n",
    "    y.append(linepixels[0])\n",
    "    imarray = np.asfarray(linepixels[1:]).reshape(28,28)\n",
    "    plt.subplot(10, 10, count)\n",
    "    plt.subplots_adjust(hspace=0.5)\n",
    "    plt.title(\"Label is\" + str(linepixels[0]))\n",
    "    count += 1\n",
    "    plt.imshow(imarray, cmap=\"Greys\", interpolation=\"None\")\n",
    "    \n",
    "train_x_100 = np.array(x).T / 256.0\n",
    "train_y_100 = np.zeros((10, len(y)), dtype=int)\n",
    "for i in range(len(y)):\n",
    "    train_y_100[y[i], i] = 1"
   ]
  },
  {
   "cell_type": "code",
   "execution_count": 20,
   "metadata": {},
   "outputs": [],
   "source": [
    "nnMNIST100 = MLP([784, 50, 10], activationFunction = \"sigmoid\")\n",
    "nnMNIST100.train(train_x_100, train_y_100, numEpoch=10000, lr=0.1, bs = 100)"
   ]
  },
  {
   "cell_type": "code",
   "execution_count": 21,
   "metadata": {},
   "outputs": [
    {
     "data": {
      "text/plain": [
       "[<matplotlib.lines.Line2D at 0x7f22dc25af60>]"
      ]
     },
     "execution_count": 21,
     "metadata": {},
     "output_type": "execute_result"
    },
    {
     "data": {
      "image/png": "[encoded data removed]",
      "text/plain": [
       "<matplotlib.figure.Figure at 0x7f22ddb38f98>"
      ]
     },
     "metadata": {},
     "output_type": "display_data"
    }
   ],
   "source": [
    "plt.plot(nnMNIST100.lossList[:])"
   ]
  },
  {
   "cell_type": "code",
   "execution_count": 22,
   "metadata": {},
   "outputs": [
    {
     "data": {
      "text/plain": [
       "array([3, 7, 2, 0, 3, 3, 0, 2, 9, 2, 1, 4, 6, 8, 3, 6, 1, 1, 4, 8, 8, 6, 7,\n",
       "       4, 3, 2, 7, 5, 3, 9, 1, 9, 6, 7, 7, 5, 0, 0, 5, 4, 3, 0, 3, 4, 6, 7,\n",
       "       4, 9, 3, 1, 4, 6, 1, 8, 0, 1, 9, 9, 0, 5, 6, 4, 0, 3, 0, 8, 4, 9, 6,\n",
       "       6, 0, 2, 6, 1, 5, 9, 0, 0, 4, 1, 1, 1, 6, 1, 7, 7, 7, 9, 8, 8, 1, 1,\n",
       "       2, 7, 0, 3, 9, 8, 9, 4])"
      ]
     },
     "execution_count": 22,
     "metadata": {},
     "output_type": "execute_result"
    }
   ],
   "source": [
    "nnMNIST100.finalY.argmax(axis=0)"
   ]
  },
  {
   "cell_type": "code",
   "execution_count": 23,
   "metadata": {},
   "outputs": [
    {
     "data": {
      "text/plain": [
       "array([3, 7, 2, 0, 3, 3, 0, 2, 9, 2, 1, 4, 6, 8, 3, 6, 1, 1, 1, 8, 8, 6, 7,\n",
       "       4, 3, 1, 7, 5, 3, 9, 1, 9, 6, 7, 7, 3, 0, 0, 0, 4, 3, 0, 3, 4, 6, 7,\n",
       "       4, 9, 3, 1, 7, 6, 1, 8, 0, 1, 9, 9, 0, 5, 6, 4, 0, 3, 0, 8, 4, 9, 6,\n",
       "       6, 0, 2, 6, 1, 5, 9, 0, 0, 4, 1, 1, 1, 6, 1, 7, 7, 7, 9, 8, 8, 1, 1,\n",
       "       2, 7, 0, 3, 9, 8, 9, 4])"
      ]
     },
     "execution_count": 23,
     "metadata": {},
     "output_type": "execute_result"
    }
   ],
   "source": [
    "nnMNIST100.yHat.argmax(axis=0)"
   ]
  },
  {
   "cell_type": "code",
   "execution_count": 24,
   "metadata": {},
   "outputs": [
    {
     "name": "stdout",
     "output_type": "stream",
     "text": [
      "Training Accuracy= 0.95\n"
     ]
    }
   ],
   "source": [
    "nnMNIST100.forward(train_x_100, 100)\n",
    "predicted = nnMNIST100.yHat.argmax(axis=0)\n",
    "answer = train_y_100.argmax(axis=0)\n",
    "accuracy = 1.0 - float(len(np.nonzero(predicted - answer)[0])) / len(answer)\n",
    "print (\"Training Accuracy=\", accuracy)"
   ]
  },
  {
   "cell_type": "code",
   "execution_count": 25,
   "metadata": {},
   "outputs": [
    {
     "name": "stdout",
     "output_type": "stream",
     "text": [
      "dJdp\n",
      " (array([  3,   0,   0,   0,   1,  96,   0,   0,   0, 900]), array([-10.22,  -9.2 ,  -8.17,  -7.15,  -6.13,  -5.11,  -4.09,  -3.07,\n",
      "        -2.04,  -1.02,   0.  ]))\n",
      "dJda last\n",
      " (array([  5,  95,   0,   0,   0,   0,   0,   0, 846,  54]), array([-0.9 , -0.79, -0.68, -0.57, -0.46, -0.35, -0.24, -0.13, -0.02,\n",
      "        0.09,  0.2 ]))\n",
      "dJdW last\n",
      " (array([ 16,  26,  68,  98, 155,  82,  38,  11,   3,   3]), array([ -3.96e-04,  -2.92e-04,  -1.88e-04,  -8.40e-05,   2.01e-05,\n",
      "         1.24e-04,   2.28e-04,   3.32e-04,   4.36e-04,   5.40e-04,\n",
      "         6.44e-04]))\n",
      "dJda first\n",
      " (array([   4,    5,   22,  162, 3356, 1346,   75,   21,    5,    4]), array([-0.13, -0.11, -0.08, -0.05, -0.02,  0.  ,  0.03,  0.06,  0.09,\n",
      "        0.11,  0.14]))\n",
      "dJdW first\n",
      " (array([    6,   116,   923,  6804, 30017,  1123,   142,    31,    16,    22]), array([ -1.43e-04,  -1.08e-04,  -7.35e-05,  -3.86e-05,  -3.71e-06,\n",
      "         3.12e-05,   6.60e-05,   1.01e-04,   1.36e-04,   1.71e-04,\n",
      "         2.06e-04]))\n"
     ]
    }
   ],
   "source": [
    "print(\"dJdp\\n\", np.histogram(nnMNIST100.dJdp))\n",
    "print(\"dJda last\\n\", np.histogram(nnMNIST100.layers[-1][\"dJda\"]))\n",
    "print(\"dJdW last\\n\", np.histogram(nnMNIST100.layers[-1][\"dJdW\"]))\n",
    "print(\"dJda first\\n\", np.histogram(nnMNIST100.layers[1][\"dJda\"]))\n",
    "print(\"dJdW first\\n\", np.histogram(nnMNIST100.layers[1][\"dJdW\"]))"
   ]
  },
  {
   "cell_type": "code",
   "execution_count": 26,
   "metadata": {},
   "outputs": [
    {
     "data": {
      "text/plain": [
       "(array([   7,   36,  165,  615, 1433, 1479,  914,  292,   46,   13]),\n",
       " array([-40.22, -32.55, -24.88, -17.21,  -9.53,  -1.86,   5.81,  13.49,\n",
       "         21.16,  28.83,  36.5 ]))"
      ]
     },
     "execution_count": 26,
     "metadata": {},
     "output_type": "execute_result"
    }
   ],
   "source": [
    "np.histogram(nnMNIST100.layers[1]['z'])"
   ]
  },
  {
   "cell_type": "code",
   "execution_count": 27,
   "metadata": {},
   "outputs": [
    {
     "data": {
      "text/plain": [
       "(array([  9,  53, 147, 285, 317,  89,   1,   6,  82,  11]),\n",
       " array([-15.73, -13.3 , -10.87,  -8.44,  -6.01,  -3.58,  -1.15,   1.28,\n",
       "          3.71,   6.14,   8.57]))"
      ]
     },
     "execution_count": 27,
     "metadata": {},
     "output_type": "execute_result"
    }
   ],
   "source": [
    "np.histogram(nnMNIST100.layers[-1]['z'])"
   ]
  },
  {
   "cell_type": "code",
   "execution_count": 28,
   "metadata": {},
   "outputs": [
    {
     "data": {
      "text/plain": [
       "array([[ 0.09,  0.09,  0.08,  0.09,  0.09,  0.23,  0.09,  0.09,  0.08,\n",
       "         0.09],\n",
       "       [ 0.09,  0.09,  0.08,  0.08,  0.09,  0.08,  0.09,  0.09,  0.09,\n",
       "         0.23],\n",
       "       [ 0.09,  0.09,  0.09,  0.09,  0.09,  0.08,  0.09,  0.09,  0.09,\n",
       "         0.09],\n",
       "       [ 0.09,  0.09,  0.08,  0.09,  0.09,  0.08,  0.09,  0.08,  0.23,\n",
       "         0.09],\n",
       "       [ 0.09,  0.09,  0.23,  0.09,  0.09,  0.09,  0.09,  0.09,  0.09,\n",
       "         0.09],\n",
       "       [ 0.09,  0.09,  0.08,  0.09,  0.09,  0.08,  0.09,  0.09,  0.09,\n",
       "         0.09],\n",
       "       [ 0.23,  0.09,  0.08,  0.23,  0.09,  0.09,  0.09,  0.09,  0.09,\n",
       "         0.09],\n",
       "       [ 0.09,  0.23,  0.08,  0.08,  0.09,  0.09,  0.23,  0.09,  0.08,\n",
       "         0.09],\n",
       "       [ 0.09,  0.09,  0.08,  0.09,  0.23,  0.08,  0.09,  0.23,  0.08,\n",
       "         0.09],\n",
       "       [ 0.09,  0.09,  0.09,  0.09,  0.09,  0.09,  0.09,  0.09,  0.09,\n",
       "         0.09]])"
      ]
     },
     "execution_count": 28,
     "metadata": {},
     "output_type": "execute_result"
    }
   ],
   "source": [
    "nnMNIST100.p[:, -10:]"
   ]
  },
  {
   "cell_type": "markdown",
   "metadata": {},
   "source": [
    "### Train the full MNIST set of 60000 data points"
   ]
  },
  {
   "cell_type": "code",
   "execution_count": 29,
   "metadata": {},
   "outputs": [
    {
     "ename": "FileNotFoundError",
     "evalue": "[Errno 2] No such file or directory: 'mnist_train_60000.csv'",
     "output_type": "error",
     "traceback": [
      "\u001b[0;31m---------------------------------------------------------------------------\u001b[0m",
      "\u001b[0;31mFileNotFoundError\u001b[0m                         Traceback (most recent call last)",
      "\u001b[0;32m<ipython-input-29-b4a5d460f6b2>\u001b[0m in \u001b[0;36m<module>\u001b[0;34m()\u001b[0m\n\u001b[1;32m     20\u001b[0m     \u001b[0;32mreturn\u001b[0m \u001b[0mout_x\u001b[0m\u001b[0;34m,\u001b[0m \u001b[0mout_y\u001b[0m\u001b[0;34m\u001b[0m\u001b[0m\n\u001b[1;32m     21\u001b[0m \u001b[0;34m\u001b[0m\u001b[0m\n\u001b[0;32m---> 22\u001b[0;31m \u001b[0mtrain_x_60000\u001b[0m\u001b[0;34m,\u001b[0m \u001b[0mtrain_y_60000\u001b[0m \u001b[0;34m=\u001b[0m \u001b[0mcsv2xy\u001b[0m\u001b[0;34m(\u001b[0m\u001b[0;34m\"mnist_train_60000.csv\"\u001b[0m\u001b[0;34m)\u001b[0m\u001b[0;34m\u001b[0m\u001b[0m\n\u001b[0m\u001b[1;32m     23\u001b[0m \u001b[0mtest_x_10000\u001b[0m\u001b[0;34m,\u001b[0m \u001b[0mtest_y_10000\u001b[0m \u001b[0;34m=\u001b[0m \u001b[0mcsv2xy\u001b[0m\u001b[0;34m(\u001b[0m\u001b[0;34m\"mnist_test_10000.csv\"\u001b[0m\u001b[0;34m)\u001b[0m\u001b[0;34m\u001b[0m\u001b[0m\n",
      "\u001b[0;32m<ipython-input-29-b4a5d460f6b2>\u001b[0m in \u001b[0;36mcsv2xy\u001b[0;34m(fileName)\u001b[0m\n\u001b[1;32m      1\u001b[0m \u001b[0;32mdef\u001b[0m \u001b[0mcsv2xy\u001b[0m\u001b[0;34m(\u001b[0m\u001b[0mfileName\u001b[0m\u001b[0;34m)\u001b[0m\u001b[0;34m:\u001b[0m\u001b[0;34m\u001b[0m\u001b[0m\n\u001b[0;32m----> 2\u001b[0;31m     \u001b[0mf\u001b[0m \u001b[0;34m=\u001b[0m \u001b[0mopen\u001b[0m\u001b[0;34m(\u001b[0m\u001b[0mfileName\u001b[0m\u001b[0;34m,\u001b[0m \u001b[0;34m\"r\"\u001b[0m\u001b[0;34m)\u001b[0m\u001b[0;34m\u001b[0m\u001b[0m\n\u001b[0m\u001b[1;32m      3\u001b[0m     \u001b[0ma\u001b[0m \u001b[0;34m=\u001b[0m \u001b[0mf\u001b[0m\u001b[0;34m.\u001b[0m\u001b[0mreadlines\u001b[0m\u001b[0;34m(\u001b[0m\u001b[0;34m)\u001b[0m\u001b[0;34m\u001b[0m\u001b[0m\n\u001b[1;32m      4\u001b[0m     \u001b[0mf\u001b[0m\u001b[0;34m.\u001b[0m\u001b[0mclose\u001b[0m\u001b[0;34m(\u001b[0m\u001b[0;34m)\u001b[0m\u001b[0;34m\u001b[0m\u001b[0m\n\u001b[1;32m      5\u001b[0m \u001b[0;34m\u001b[0m\u001b[0m\n",
      "\u001b[0;31mFileNotFoundError\u001b[0m: [Errno 2] No such file or directory: 'mnist_train_60000.csv'"
     ]
    }
   ],
   "source": [
    "def csv2xy(fileName):\n",
    "    f = open(fileName, \"r\")\n",
    "    a = f.readlines()\n",
    "    f.close()\n",
    "\n",
    "    x = []\n",
    "    y = []\n",
    "\n",
    "    for line in a:\n",
    "        linepixels = [int(pixel) for pixel in line.split(\",\")]\n",
    "        x.append(linepixels[1:])\n",
    "        y.append(linepixels[0])\n",
    "    \n",
    "    \n",
    "    out_x = np.array(x).T / 256.0\n",
    "    out_y = np.zeros((10, len(y)), dtype=int)\n",
    "    for i in range(len(y)):\n",
    "        out_y[y[i], i] = 1\n",
    "        \n",
    "    return out_x, out_y\n",
    "    \n",
    "train_x_60000, train_y_60000 = csv2xy(\"mnist_train_60000.csv\")\n",
    "test_x_10000, test_y_10000 = csv2xy(\"mnist_test_10000.csv\")\n"
   ]
  },
  {
   "cell_type": "code",
   "execution_count": 30,
   "metadata": {},
   "outputs": [],
   "source": [
    "nnMNIST60000 = MLP([784, 50, 10], activationFunction='sigmoid')"
   ]
  },
  {
   "cell_type": "code",
   "execution_count": 31,
   "metadata": {},
   "outputs": [
    {
     "ename": "NameError",
     "evalue": "name 'train_x_60000' is not defined",
     "output_type": "error",
     "traceback": [
      "\u001b[0;31m---------------------------------------------------------------------------\u001b[0m",
      "\u001b[0;31mNameError\u001b[0m                                 Traceback (most recent call last)",
      "\u001b[0;32m<ipython-input-31-e2acadb2dc22>\u001b[0m in \u001b[0;36m<module>\u001b[0;34m()\u001b[0m\n\u001b[0;32m----> 1\u001b[0;31m \u001b[0mnnMNIST60000\u001b[0m\u001b[0;34m.\u001b[0m\u001b[0mtrain\u001b[0m\u001b[0;34m(\u001b[0m\u001b[0mtrain_x_60000\u001b[0m\u001b[0;34m,\u001b[0m \u001b[0mtrain_y_60000\u001b[0m\u001b[0;34m,\u001b[0m \u001b[0mnumEpoch\u001b[0m\u001b[0;34m=\u001b[0m\u001b[0;36m100\u001b[0m\u001b[0;34m,\u001b[0m \u001b[0mlr\u001b[0m\u001b[0;34m=\u001b[0m\u001b[0;36m0.1\u001b[0m\u001b[0;34m,\u001b[0m \u001b[0mbs\u001b[0m \u001b[0;34m=\u001b[0m \u001b[0;36m100\u001b[0m\u001b[0;34m)\u001b[0m\u001b[0;34m\u001b[0m\u001b[0m\n\u001b[0m\u001b[1;32m      2\u001b[0m \u001b[0mplt\u001b[0m\u001b[0;34m.\u001b[0m\u001b[0mplot\u001b[0m\u001b[0;34m(\u001b[0m\u001b[0mnnMNIST60000\u001b[0m\u001b[0;34m.\u001b[0m\u001b[0mlossList\u001b[0m\u001b[0;34m)\u001b[0m\u001b[0;34m\u001b[0m\u001b[0m\n",
      "\u001b[0;31mNameError\u001b[0m: name 'train_x_60000' is not defined"
     ]
    }
   ],
   "source": [
    "nnMNIST60000.train(train_x_60000, train_y_60000, numEpoch=100, lr=0.1, bs = 100)\n",
    "plt.plot(nnMNIST60000.lossList)"
   ]
  },
  {
   "cell_type": "code",
   "execution_count": 32,
   "metadata": {},
   "outputs": [
    {
     "ename": "NameError",
     "evalue": "name 'train_x_60000' is not defined",
     "output_type": "error",
     "traceback": [
      "\u001b[0;31m---------------------------------------------------------------------------\u001b[0m",
      "\u001b[0;31mNameError\u001b[0m                                 Traceback (most recent call last)",
      "\u001b[0;32m<ipython-input-32-e88bcb6a6975>\u001b[0m in \u001b[0;36m<module>\u001b[0;34m()\u001b[0m\n\u001b[0;32m----> 1\u001b[0;31m \u001b[0mnnMNIST60000\u001b[0m\u001b[0;34m.\u001b[0m\u001b[0mforward\u001b[0m\u001b[0;34m(\u001b[0m\u001b[0mtrain_x_60000\u001b[0m\u001b[0;34m,\u001b[0m \u001b[0;36m60000\u001b[0m\u001b[0;34m)\u001b[0m\u001b[0;34m\u001b[0m\u001b[0m\n\u001b[0m\u001b[1;32m      2\u001b[0m \u001b[0mpredicted\u001b[0m \u001b[0;34m=\u001b[0m \u001b[0mnnMNIST60000\u001b[0m\u001b[0;34m.\u001b[0m\u001b[0myHat\u001b[0m\u001b[0;34m.\u001b[0m\u001b[0margmax\u001b[0m\u001b[0;34m(\u001b[0m\u001b[0maxis\u001b[0m\u001b[0;34m=\u001b[0m\u001b[0;36m0\u001b[0m\u001b[0;34m)\u001b[0m\u001b[0;34m\u001b[0m\u001b[0m\n\u001b[1;32m      3\u001b[0m \u001b[0manswer\u001b[0m \u001b[0;34m=\u001b[0m \u001b[0mtrain_y_60000\u001b[0m\u001b[0;34m.\u001b[0m\u001b[0margmax\u001b[0m\u001b[0;34m(\u001b[0m\u001b[0maxis\u001b[0m\u001b[0;34m=\u001b[0m\u001b[0;36m0\u001b[0m\u001b[0;34m)\u001b[0m\u001b[0;34m\u001b[0m\u001b[0m\n\u001b[1;32m      4\u001b[0m \u001b[0maccuracy\u001b[0m \u001b[0;34m=\u001b[0m \u001b[0;36m1.0\u001b[0m \u001b[0;34m-\u001b[0m \u001b[0mfloat\u001b[0m\u001b[0;34m(\u001b[0m\u001b[0mlen\u001b[0m\u001b[0;34m(\u001b[0m\u001b[0mnp\u001b[0m\u001b[0;34m.\u001b[0m\u001b[0mnonzero\u001b[0m\u001b[0;34m(\u001b[0m\u001b[0mpredicted\u001b[0m \u001b[0;34m-\u001b[0m \u001b[0manswer\u001b[0m\u001b[0;34m)\u001b[0m\u001b[0;34m[\u001b[0m\u001b[0;36m0\u001b[0m\u001b[0;34m]\u001b[0m\u001b[0;34m)\u001b[0m\u001b[0;34m)\u001b[0m \u001b[0;34m/\u001b[0m \u001b[0mlen\u001b[0m\u001b[0;34m(\u001b[0m\u001b[0manswer\u001b[0m\u001b[0;34m)\u001b[0m\u001b[0;34m\u001b[0m\u001b[0m\n\u001b[1;32m      5\u001b[0m \u001b[0mprint\u001b[0m \u001b[0;34m(\u001b[0m\u001b[0;34m\"Training Accuracy=\"\u001b[0m\u001b[0;34m,\u001b[0m \u001b[0maccuracy\u001b[0m\u001b[0;34m)\u001b[0m\u001b[0;34m\u001b[0m\u001b[0m\n",
      "\u001b[0;31mNameError\u001b[0m: name 'train_x_60000' is not defined"
     ]
    }
   ],
   "source": [
    "nnMNIST60000.forward(train_x_60000, 60000)\n",
    "predicted = nnMNIST60000.yHat.argmax(axis=0)\n",
    "answer = train_y_60000.argmax(axis=0)\n",
    "accuracy = 1.0 - float(len(np.nonzero(predicted - answer)[0])) / len(answer)\n",
    "print (\"Training Accuracy=\", accuracy)"
   ]
  },
  {
   "cell_type": "code",
   "execution_count": 33,
   "metadata": {},
   "outputs": [
    {
     "ename": "NameError",
     "evalue": "name 'test_x_10000' is not defined",
     "output_type": "error",
     "traceback": [
      "\u001b[0;31m---------------------------------------------------------------------------\u001b[0m",
      "\u001b[0;31mNameError\u001b[0m                                 Traceback (most recent call last)",
      "\u001b[0;32m<ipython-input-33-52eba9d477c5>\u001b[0m in \u001b[0;36m<module>\u001b[0;34m()\u001b[0m\n\u001b[0;32m----> 1\u001b[0;31m \u001b[0mnnMNIST60000\u001b[0m\u001b[0;34m.\u001b[0m\u001b[0mforward\u001b[0m\u001b[0;34m(\u001b[0m\u001b[0mtest_x_10000\u001b[0m\u001b[0;34m,\u001b[0m \u001b[0;36m10000\u001b[0m\u001b[0;34m)\u001b[0m\u001b[0;34m\u001b[0m\u001b[0m\n\u001b[0m\u001b[1;32m      2\u001b[0m \u001b[0mpredicted\u001b[0m \u001b[0;34m=\u001b[0m \u001b[0mnnMNIST60000\u001b[0m\u001b[0;34m.\u001b[0m\u001b[0myHat\u001b[0m\u001b[0;34m.\u001b[0m\u001b[0margmax\u001b[0m\u001b[0;34m(\u001b[0m\u001b[0maxis\u001b[0m\u001b[0;34m=\u001b[0m\u001b[0;36m0\u001b[0m\u001b[0;34m)\u001b[0m\u001b[0;34m\u001b[0m\u001b[0m\n\u001b[1;32m      3\u001b[0m \u001b[0manswer\u001b[0m \u001b[0;34m=\u001b[0m \u001b[0mtest_y_10000\u001b[0m\u001b[0;34m.\u001b[0m\u001b[0margmax\u001b[0m\u001b[0;34m(\u001b[0m\u001b[0maxis\u001b[0m\u001b[0;34m=\u001b[0m\u001b[0;36m0\u001b[0m\u001b[0;34m)\u001b[0m\u001b[0;34m\u001b[0m\u001b[0m\n\u001b[1;32m      4\u001b[0m \u001b[0maccuracy\u001b[0m \u001b[0;34m=\u001b[0m \u001b[0;36m1.0\u001b[0m \u001b[0;34m-\u001b[0m \u001b[0mfloat\u001b[0m\u001b[0;34m(\u001b[0m\u001b[0mlen\u001b[0m\u001b[0;34m(\u001b[0m\u001b[0mnp\u001b[0m\u001b[0;34m.\u001b[0m\u001b[0mnonzero\u001b[0m\u001b[0;34m(\u001b[0m\u001b[0mpredicted\u001b[0m \u001b[0;34m-\u001b[0m \u001b[0manswer\u001b[0m\u001b[0;34m)\u001b[0m\u001b[0;34m[\u001b[0m\u001b[0;36m0\u001b[0m\u001b[0;34m]\u001b[0m\u001b[0;34m)\u001b[0m\u001b[0;34m)\u001b[0m \u001b[0;34m/\u001b[0m \u001b[0mlen\u001b[0m\u001b[0;34m(\u001b[0m\u001b[0manswer\u001b[0m\u001b[0;34m)\u001b[0m\u001b[0;34m\u001b[0m\u001b[0m\n\u001b[1;32m      5\u001b[0m \u001b[0mprint\u001b[0m \u001b[0;34m(\u001b[0m\u001b[0;34m\"Testing Accuracy=\"\u001b[0m\u001b[0;34m,\u001b[0m \u001b[0maccuracy\u001b[0m\u001b[0;34m)\u001b[0m\u001b[0;34m\u001b[0m\u001b[0m\n",
      "\u001b[0;31mNameError\u001b[0m: name 'test_x_10000' is not defined"
     ]
    }
   ],
   "source": [
    "nnMNIST60000.forward(test_x_10000, 10000)\n",
    "predicted = nnMNIST60000.yHat.argmax(axis=0)\n",
    "answer = test_y_10000.argmax(axis=0)\n",
    "accuracy = 1.0 - float(len(np.nonzero(predicted - answer)[0])) / len(answer)\n",
    "print (\"Testing Accuracy=\", accuracy)"
   ]
  },
  {
   "cell_type": "code",
   "execution_count": 38,
   "metadata": {},
   "outputs": [
    {
     "data": {
      "text/plain": [
       "<matplotlib.image.AxesImage at 0x65dcccd278>"
      ]
     },
     "execution_count": 38,
     "metadata": {},
     "output_type": "execute_result"
    },
    {
     "data": {
      "image/png": "[encoded data removed]",
      "text/plain": [
       "<Figure size 432x288 with 1 Axes>"
      ]
     },
     "metadata": {
      "needs_background": "light"
     },
     "output_type": "display_data"
    }
   ],
   "source": [
    "img = np.asfarray(train_x_60000[:, 1000]).reshape(28,28)\n",
    "plt.imshow(img)"
   ]
  },
  {
   "cell_type": "code",
   "execution_count": null,
   "metadata": {},
   "outputs": [],
   "source": []
  }
 ],
 "metadata": {
  "kernelspec": {
   "display_name": "Python 3",
   "language": "python",
   "name": "python3"
  },
  "language_info": {
   "codemirror_mode": {
    "name": "ipython",
    "version": 3
   },
   "file_extension": ".py",
   "mimetype": "text/x-python",
   "name": "python",
   "nbconvert_exporter": "python",
   "pygments_lexer": "ipython3",
   "version": "3.5.2"
  }
 },
 "nbformat": 4,
 "nbformat_minor": 2
}
